{
 "cells": [
  {
   "cell_type": "code",
   "execution_count": 1,
   "metadata": {},
   "outputs": [
    {
     "name": "stderr",
     "output_type": "stream",
     "text": [
      "Using TensorFlow backend.\n"
     ]
    }
   ],
   "source": [
    "# Artificial Neural Network\n",
    "\n",
    "# Importing the libraries\n",
    "import numpy as np\n",
    "import pandas as pd\n",
    "from keras.layers import Dense\n",
    "from keras.models import Sequential\n",
    "import tensorflow as tf\n",
    "#tf.__version__"
   ]
  },
  {
   "cell_type": "code",
   "execution_count": 2,
   "metadata": {},
   "outputs": [
    {
     "name": "stdout",
     "output_type": "stream",
     "text": [
      "[[619 'France' 'Female' ... 1 1 101348.88]\n",
      " [608 'Spain' 'Female' ... 0 1 112542.58]\n",
      " [502 'France' 'Female' ... 1 0 113931.57]\n",
      " ...\n",
      " [709 'France' 'Female' ... 0 1 42085.58]\n",
      " [772 'Germany' 'Male' ... 1 0 92888.52]\n",
      " [792 'France' 'Female' ... 1 0 38190.78]]\n",
      "[1 0 1 ... 1 1 0]\n"
     ]
    }
   ],
   "source": [
    "# Importing the dataset\n",
    "dataset = pd.read_csv('Churn_Modelling.csv')\n",
    "X = dataset.iloc[:, 3:-1].values\n",
    "y = dataset.iloc[:, -1].values\n",
    "print(X)\n",
    "print(y)"
   ]
  },
  {
   "cell_type": "code",
   "execution_count": 3,
   "metadata": {},
   "outputs": [
    {
     "name": "stdout",
     "output_type": "stream",
     "text": [
      "[[619 'France' 0 ... 1 1 101348.88]\n",
      " [608 'Spain' 0 ... 0 1 112542.58]\n",
      " [502 'France' 0 ... 1 0 113931.57]\n",
      " ...\n",
      " [709 'France' 0 ... 0 1 42085.58]\n",
      " [772 'Germany' 1 ... 1 0 92888.52]\n",
      " [792 'France' 0 ... 1 0 38190.78]]\n"
     ]
    }
   ],
   "source": [
    "# Encoding categorical data\n",
    "# Label Encoding the \"Gender\" column\n",
    "from sklearn.preprocessing import LabelEncoder\n",
    "le = LabelEncoder()\n",
    "X[:, 2] = le.fit_transform(X[:, 2])\n",
    "print(X)"
   ]
  },
  {
   "cell_type": "code",
   "execution_count": 4,
   "metadata": {},
   "outputs": [
    {
     "name": "stdout",
     "output_type": "stream",
     "text": [
      "[[1.0 0.0 0.0 ... 1 1 101348.88]\n",
      " [0.0 0.0 1.0 ... 0 1 112542.58]\n",
      " [1.0 0.0 0.0 ... 1 0 113931.57]\n",
      " ...\n",
      " [1.0 0.0 0.0 ... 0 1 42085.58]\n",
      " [0.0 1.0 0.0 ... 1 0 92888.52]\n",
      " [1.0 0.0 0.0 ... 1 0 38190.78]]\n"
     ]
    }
   ],
   "source": [
    "# One Hot Encoding the \"Geography\" column\n",
    "from sklearn.compose import ColumnTransformer\n",
    "from sklearn.preprocessing import OneHotEncoder\n",
    "ct = ColumnTransformer(transformers=[('encoder', OneHotEncoder(), [1])], remainder='passthrough')\n",
    "X = np.array(ct.fit_transform(X))\n",
    "print(X)"
   ]
  },
  {
   "cell_type": "code",
   "execution_count": 5,
   "metadata": {},
   "outputs": [
    {
     "data": {
      "text/plain": [
       "(8000, 12)"
      ]
     },
     "execution_count": 5,
     "metadata": {},
     "output_type": "execute_result"
    }
   ],
   "source": [
    "# Splitting the dataset into the Training set and Test set\n",
    "from sklearn.model_selection import train_test_split\n",
    "X_train, X_test, y_train, y_test = train_test_split(X, y, test_size = 0.2, random_state = 0)\n",
    "\n",
    "X_train.shape"
   ]
  },
  {
   "cell_type": "code",
   "execution_count": 6,
   "metadata": {},
   "outputs": [],
   "source": [
    "\n",
    "# Feature Scaling\n",
    "from sklearn.preprocessing import StandardScaler\n",
    "sc = StandardScaler()\n",
    "X_train = sc.fit_transform(X_train)\n",
    "X_test = sc.transform(X_test)"
   ]
  },
  {
   "cell_type": "code",
   "execution_count": 7,
   "metadata": {},
   "outputs": [
    {
     "name": "stdout",
     "output_type": "stream",
     "text": [
      "Model: \"sequential_1\"\n",
      "_________________________________________________________________\n",
      "Layer (type)                 Output Shape              Param #   \n",
      "=================================================================\n",
      "dense_1 (Dense)              (None, 6)                 78        \n",
      "_________________________________________________________________\n",
      "dense_2 (Dense)              (None, 6)                 42        \n",
      "_________________________________________________________________\n",
      "dense_3 (Dense)              (None, 1)                 7         \n",
      "=================================================================\n",
      "Total params: 127\n",
      "Trainable params: 127\n",
      "Non-trainable params: 0\n",
      "_________________________________________________________________\n"
     ]
    }
   ],
   "source": [
    "# Part 2 - Building the ANN\n",
    "\n",
    "# Initializing the ANN\n",
    "\n",
    "\n",
    "ann = Sequential()\n",
    "\n",
    "# Adding the input layer and the first hidden layer\n",
    "ann.add(Dense(6, input_shape = (12, ), activation='relu'))\n",
    "\n",
    "# Adding the second hidden layer\n",
    "ann.add(Dense(6, activation='relu'))\n",
    "\n",
    "# Adding the output layer\n",
    "ann.add(Dense(1, activation='sigmoid'))\n",
    "\n",
    "ann.summary()\n"
   ]
  },
  {
   "cell_type": "code",
   "execution_count": 26,
   "metadata": {},
   "outputs": [
    {
     "ename": "ImportError",
     "evalue": "Failed to import `pydot`. Please install `pydot`. For example with `pip install pydot`.",
     "output_type": "error",
     "traceback": [
      "\u001b[1;31m---------------------------------------------------------------------------\u001b[0m",
      "\u001b[1;31mImportError\u001b[0m                               Traceback (most recent call last)",
      "\u001b[1;32m<ipython-input-26-3e898da3a314>\u001b[0m in \u001b[0;36m<module>\u001b[1;34m\u001b[0m\n\u001b[0;32m      7\u001b[0m     \u001b[0mrankdir\u001b[0m\u001b[1;33m=\u001b[0m\u001b[1;34m\"TB\"\u001b[0m\u001b[1;33m,\u001b[0m\u001b[1;33m\u001b[0m\u001b[1;33m\u001b[0m\u001b[0m\n\u001b[0;32m      8\u001b[0m     \u001b[0mexpand_nested\u001b[0m\u001b[1;33m=\u001b[0m\u001b[1;32mFalse\u001b[0m\u001b[1;33m,\u001b[0m\u001b[1;33m\u001b[0m\u001b[1;33m\u001b[0m\u001b[0m\n\u001b[1;32m----> 9\u001b[1;33m     dpi=96)\n\u001b[0m\u001b[0;32m     10\u001b[0m \u001b[1;33m\u001b[0m\u001b[0m\n",
      "\u001b[1;32m~\\Anaconda3\\lib\\site-packages\\keras\\utils\\vis_utils.py\u001b[0m in \u001b[0;36mplot_model\u001b[1;34m(model, to_file, show_shapes, show_layer_names, rankdir, expand_nested, dpi)\u001b[0m\n\u001b[0;32m    238\u001b[0m     \"\"\"\n\u001b[0;32m    239\u001b[0m     dot = model_to_dot(model, show_shapes, show_layer_names, rankdir,\n\u001b[1;32m--> 240\u001b[1;33m                        expand_nested, dpi)\n\u001b[0m\u001b[0;32m    241\u001b[0m     \u001b[0m_\u001b[0m\u001b[1;33m,\u001b[0m \u001b[0mextension\u001b[0m \u001b[1;33m=\u001b[0m \u001b[0mos\u001b[0m\u001b[1;33m.\u001b[0m\u001b[0mpath\u001b[0m\u001b[1;33m.\u001b[0m\u001b[0msplitext\u001b[0m\u001b[1;33m(\u001b[0m\u001b[0mto_file\u001b[0m\u001b[1;33m)\u001b[0m\u001b[1;33m\u001b[0m\u001b[1;33m\u001b[0m\u001b[0m\n\u001b[0;32m    242\u001b[0m     \u001b[1;32mif\u001b[0m \u001b[1;32mnot\u001b[0m \u001b[0mextension\u001b[0m\u001b[1;33m:\u001b[0m\u001b[1;33m\u001b[0m\u001b[1;33m\u001b[0m\u001b[0m\n",
      "\u001b[1;32m~\\Anaconda3\\lib\\site-packages\\keras\\utils\\vis_utils.py\u001b[0m in \u001b[0;36mmodel_to_dot\u001b[1;34m(model, show_shapes, show_layer_names, rankdir, expand_nested, dpi, subgraph)\u001b[0m\n\u001b[0;32m     77\u001b[0m     \u001b[1;32mfrom\u001b[0m \u001b[1;33m.\u001b[0m\u001b[1;33m.\u001b[0m\u001b[0mmodels\u001b[0m \u001b[1;32mimport\u001b[0m \u001b[0mSequential\u001b[0m\u001b[1;33m\u001b[0m\u001b[1;33m\u001b[0m\u001b[0m\n\u001b[0;32m     78\u001b[0m \u001b[1;33m\u001b[0m\u001b[0m\n\u001b[1;32m---> 79\u001b[1;33m     \u001b[0m_check_pydot\u001b[0m\u001b[1;33m(\u001b[0m\u001b[1;33m)\u001b[0m\u001b[1;33m\u001b[0m\u001b[1;33m\u001b[0m\u001b[0m\n\u001b[0m\u001b[0;32m     80\u001b[0m     \u001b[1;32mif\u001b[0m \u001b[0msubgraph\u001b[0m\u001b[1;33m:\u001b[0m\u001b[1;33m\u001b[0m\u001b[1;33m\u001b[0m\u001b[0m\n\u001b[0;32m     81\u001b[0m         \u001b[0mdot\u001b[0m \u001b[1;33m=\u001b[0m \u001b[0mpydot\u001b[0m\u001b[1;33m.\u001b[0m\u001b[0mCluster\u001b[0m\u001b[1;33m(\u001b[0m\u001b[0mstyle\u001b[0m\u001b[1;33m=\u001b[0m\u001b[1;34m'dashed'\u001b[0m\u001b[1;33m,\u001b[0m \u001b[0mgraph_name\u001b[0m\u001b[1;33m=\u001b[0m\u001b[0mmodel\u001b[0m\u001b[1;33m.\u001b[0m\u001b[0mname\u001b[0m\u001b[1;33m)\u001b[0m\u001b[1;33m\u001b[0m\u001b[1;33m\u001b[0m\u001b[0m\n",
      "\u001b[1;32m~\\Anaconda3\\lib\\site-packages\\keras\\utils\\vis_utils.py\u001b[0m in \u001b[0;36m_check_pydot\u001b[1;34m()\u001b[0m\n\u001b[0;32m     20\u001b[0m     \u001b[1;32mif\u001b[0m \u001b[0mpydot\u001b[0m \u001b[1;32mis\u001b[0m \u001b[1;32mNone\u001b[0m\u001b[1;33m:\u001b[0m\u001b[1;33m\u001b[0m\u001b[1;33m\u001b[0m\u001b[0m\n\u001b[0;32m     21\u001b[0m         raise ImportError(\n\u001b[1;32m---> 22\u001b[1;33m             \u001b[1;34m'Failed to import `pydot`. '\u001b[0m\u001b[1;33m\u001b[0m\u001b[1;33m\u001b[0m\u001b[0m\n\u001b[0m\u001b[0;32m     23\u001b[0m             \u001b[1;34m'Please install `pydot`. '\u001b[0m\u001b[1;33m\u001b[0m\u001b[1;33m\u001b[0m\u001b[0m\n\u001b[0;32m     24\u001b[0m             'For example with `pip install pydot`.')\n",
      "\u001b[1;31mImportError\u001b[0m: Failed to import `pydot`. Please install `pydot`. For example with `pip install pydot`."
     ]
    }
   ],
   "source": [
    "ann.get_weights()\n",
    "import pydot\n",
    "import pydotplus\n",
    "#import pydotprint\n",
    "from keras.utils.vis_utils import plot_model    \n",
    "plot_model(ann, to_file='model_plot.png', show_shapes=True, show_layer_names=True,\n",
    "    rankdir=\"TB\",\n",
    "    expand_nested=False,\n",
    "    dpi=96)\n",
    "\n"
   ]
  },
  {
   "cell_type": "code",
   "execution_count": 12,
   "metadata": {},
   "outputs": [
    {
     "name": "stdout",
     "output_type": "stream",
     "text": [
      "Collecting pydot\n",
      "  Downloading pydot-1.4.1-py2.py3-none-any.whl (19 kB)\n",
      "Requirement already satisfied: pyparsing>=2.1.4 in c:\\users\\anselem\\anaconda3\\lib\\site-packages (from pydot) (2.4.7)\n",
      "Installing collected packages: pydot\n",
      "Successfully installed pydot-1.4.1\n",
      "Collecting graphviz\n",
      "  Downloading graphviz-0.15-py2.py3-none-any.whl (18 kB)\n",
      "Installing collected packages: graphviz\n",
      "Successfully installed graphviz-0.15\n",
      "Collecting pydotplus\n",
      "  Downloading pydotplus-2.0.2.tar.gz (278 kB)\n",
      "Requirement already satisfied: pyparsing>=2.0.1 in c:\\users\\anselem\\anaconda3\\lib\\site-packages (from pydotplus) (2.4.7)\n",
      "Building wheels for collected packages: pydotplus\n",
      "  Building wheel for pydotplus (setup.py): started\n",
      "  Building wheel for pydotplus (setup.py): finished with status 'done'\n",
      "  Created wheel for pydotplus: filename=pydotplus-2.0.2-py3-none-any.whl size=24572 sha256=57c10b34dd9425633f80e1d0c49caf1861b73a6d4c62776ee4371842a7c0b0a2\n",
      "  Stored in directory: c:\\users\\anselem\\appdata\\local\\pip\\cache\\wheels\\1e\\7b\\04\\7387cf6cc9e48b4a96e361b0be812f0708b394b821bf8c9c50\n",
      "Successfully built pydotplus\n",
      "Installing collected packages: pydotplus\n",
      "Successfully installed pydotplus-2.0.2\n"
     ]
    },
    {
     "name": "stderr",
     "output_type": "stream",
     "text": [
      "ERROR: Could not find a version that satisfies the requirement pydotprint (from versions: none)\n",
      "ERROR: No matching distribution found for pydotprint\n"
     ]
    }
   ],
   "source": [
    "\n",
    "!pip3 install pydot\n",
    "!pip3 install graphviz\n",
    "!pip install pydotplus\n",
    "!pip install pydotprint"
   ]
  },
  {
   "cell_type": "code",
   "execution_count": 28,
   "metadata": {},
   "outputs": [],
   "source": [
    "import pydot\n",
    "import pydotplus"
   ]
  },
  {
   "cell_type": "code",
   "execution_count": 16,
   "metadata": {},
   "outputs": [
    {
     "name": "stdout",
     "output_type": "stream",
     "text": [
      "Epoch 1/100\n",
      "8000/8000 [==============================] - 4s 558us/step - loss: 0.6072 - accuracy: 0.7178\n",
      "Epoch 2/100\n",
      "8000/8000 [==============================] - 0s 58us/step - loss: 0.4705 - accuracy: 0.7969\n",
      "Epoch 3/100\n",
      "8000/8000 [==============================] - 1s 73us/step - loss: 0.4405 - accuracy: 0.8064\n",
      "Epoch 4/100\n",
      "8000/8000 [==============================] - 0s 62us/step - loss: 0.4282 - accuracy: 0.8134\n",
      "Epoch 5/100\n",
      "8000/8000 [==============================] - 1s 65us/step - loss: 0.4218 - accuracy: 0.8165\n",
      "Epoch 6/100\n",
      "8000/8000 [==============================] - 0s 53us/step - loss: 0.4171 - accuracy: 0.8201\n",
      "Epoch 7/100\n",
      "8000/8000 [==============================] - 0s 52us/step - loss: 0.4128 - accuracy: 0.8246\n",
      "Epoch 8/100\n",
      "8000/8000 [==============================] - 0s 50us/step - loss: 0.4093 - accuracy: 0.8279\n",
      "Epoch 9/100\n",
      "8000/8000 [==============================] - 0s 61us/step - loss: 0.4061 - accuracy: 0.8282\n",
      "Epoch 10/100\n",
      "8000/8000 [==============================] - 0s 51us/step - loss: 0.4038 - accuracy: 0.8294\n",
      "Epoch 11/100\n",
      "8000/8000 [==============================] - 0s 51us/step - loss: 0.4011 - accuracy: 0.8299\n",
      "Epoch 12/100\n",
      "8000/8000 [==============================] - 0s 50us/step - loss: 0.3980 - accuracy: 0.8304\n",
      "Epoch 13/100\n",
      "8000/8000 [==============================] - 0s 52us/step - loss: 0.3907 - accuracy: 0.8351\n",
      "Epoch 14/100\n",
      "8000/8000 [==============================] - 1s 63us/step - loss: 0.3786 - accuracy: 0.8454\n",
      "Epoch 15/100\n",
      "8000/8000 [==============================] - 1s 78us/step - loss: 0.3675 - accuracy: 0.8541\n",
      "Epoch 16/100\n",
      "8000/8000 [==============================] - 0s 51us/step - loss: 0.3598 - accuracy: 0.8549\n",
      "Epoch 17/100\n",
      "8000/8000 [==============================] - 0s 54us/step - loss: 0.3544 - accuracy: 0.8576\n",
      "Epoch 18/100\n",
      "8000/8000 [==============================] - 0s 58us/step - loss: 0.3511 - accuracy: 0.8595\n",
      "Epoch 19/100\n",
      "8000/8000 [==============================] - 0s 57us/step - loss: 0.3483 - accuracy: 0.8584\n",
      "Epoch 20/100\n",
      "8000/8000 [==============================] - 0s 51us/step - loss: 0.3462 - accuracy: 0.8610\n",
      "Epoch 21/100\n",
      "8000/8000 [==============================] - 0s 50us/step - loss: 0.3447 - accuracy: 0.8612\n",
      "Epoch 22/100\n",
      "8000/8000 [==============================] - 0s 53us/step - loss: 0.3433 - accuracy: 0.8612\n",
      "Epoch 23/100\n",
      "8000/8000 [==============================] - 0s 50us/step - loss: 0.3424 - accuracy: 0.8614\n",
      "Epoch 24/100\n",
      "8000/8000 [==============================] - 0s 51us/step - loss: 0.3418 - accuracy: 0.8629\n",
      "Epoch 25/100\n",
      "8000/8000 [==============================] - 0s 53us/step - loss: 0.3413 - accuracy: 0.8615\n",
      "Epoch 26/100\n",
      "8000/8000 [==============================] - 0s 50us/step - loss: 0.3408 - accuracy: 0.8625\n",
      "Epoch 27/100\n",
      "8000/8000 [==============================] - 0s 53us/step - loss: 0.3400 - accuracy: 0.8625\n",
      "Epoch 28/100\n",
      "8000/8000 [==============================] - 0s 50us/step - loss: 0.3393 - accuracy: 0.8637\n",
      "Epoch 29/100\n",
      "8000/8000 [==============================] - 0s 60us/step - loss: 0.3395 - accuracy: 0.8622\n",
      "Epoch 30/100\n",
      "8000/8000 [==============================] - 0s 58us/step - loss: 0.3388 - accuracy: 0.8633\n",
      "Epoch 31/100\n",
      "8000/8000 [==============================] - 0s 53us/step - loss: 0.3385 - accuracy: 0.8626\n",
      "Epoch 32/100\n",
      "8000/8000 [==============================] - 0s 62us/step - loss: 0.3381 - accuracy: 0.8631\n",
      "Epoch 33/100\n",
      "8000/8000 [==============================] - 1s 67us/step - loss: 0.3381 - accuracy: 0.8624\n",
      "Epoch 34/100\n",
      "8000/8000 [==============================] - 0s 56us/step - loss: 0.3375 - accuracy: 0.8625\n",
      "Epoch 35/100\n",
      "8000/8000 [==============================] - 1s 73us/step - loss: 0.3379 - accuracy: 0.8637\n",
      "Epoch 36/100\n",
      "8000/8000 [==============================] - 1s 70us/step - loss: 0.3374 - accuracy: 0.8629\n",
      "Epoch 37/100\n",
      "8000/8000 [==============================] - 0s 62us/step - loss: 0.3372 - accuracy: 0.8633\n",
      "Epoch 38/100\n",
      "8000/8000 [==============================] - 1s 73us/step - loss: 0.3369 - accuracy: 0.8636\n",
      "Epoch 39/100\n",
      "8000/8000 [==============================] - 0s 54us/step - loss: 0.3365 - accuracy: 0.8629\n",
      "Epoch 40/100\n",
      "8000/8000 [==============================] - 0s 53us/step - loss: 0.3368 - accuracy: 0.8636\n",
      "Epoch 41/100\n",
      "8000/8000 [==============================] - 0s 52us/step - loss: 0.3367 - accuracy: 0.8641\n",
      "Epoch 42/100\n",
      "8000/8000 [==============================] - 0s 53us/step - loss: 0.3363 - accuracy: 0.8636\n",
      "Epoch 43/100\n",
      "8000/8000 [==============================] - 0s 53us/step - loss: 0.3359 - accuracy: 0.8627\n",
      "Epoch 44/100\n",
      "8000/8000 [==============================] - 0s 55us/step - loss: 0.3362 - accuracy: 0.8648\n",
      "Epoch 45/100\n",
      "8000/8000 [==============================] - 0s 59us/step - loss: 0.3361 - accuracy: 0.8655\n",
      "Epoch 46/100\n",
      "8000/8000 [==============================] - 1s 66us/step - loss: 0.3357 - accuracy: 0.8645\n",
      "Epoch 47/100\n",
      "8000/8000 [==============================] - 0s 55us/step - loss: 0.3357 - accuracy: 0.8637\n",
      "Epoch 48/100\n",
      "8000/8000 [==============================] - 0s 60us/step - loss: 0.3356 - accuracy: 0.8639\n",
      "Epoch 49/100\n",
      "8000/8000 [==============================] - 0s 54us/step - loss: 0.3352 - accuracy: 0.8640\n",
      "Epoch 50/100\n",
      "8000/8000 [==============================] - 0s 56us/step - loss: 0.3351 - accuracy: 0.8651\n",
      "Epoch 51/100\n",
      "8000/8000 [==============================] - 0s 52us/step - loss: 0.3348 - accuracy: 0.8646\n",
      "Epoch 52/100\n",
      "8000/8000 [==============================] - 0s 50us/step - loss: 0.3349 - accuracy: 0.8634\n",
      "Epoch 53/100\n",
      "8000/8000 [==============================] - 0s 52us/step - loss: 0.3346 - accuracy: 0.8645\n",
      "Epoch 54/100\n",
      "8000/8000 [==============================] - 0s 49us/step - loss: 0.3346 - accuracy: 0.8654\n",
      "Epoch 55/100\n",
      "8000/8000 [==============================] - 0s 57us/step - loss: 0.3346 - accuracy: 0.8631\n",
      "Epoch 56/100\n",
      "8000/8000 [==============================] - 1s 78us/step - loss: 0.3347 - accuracy: 0.8643\n",
      "Epoch 57/100\n",
      "8000/8000 [==============================] - 0s 56us/step - loss: 0.3344 - accuracy: 0.8635\n",
      "Epoch 58/100\n",
      "8000/8000 [==============================] - 1s 69us/step - loss: 0.3344 - accuracy: 0.8645\n",
      "Epoch 59/100\n",
      "8000/8000 [==============================] - 1s 69us/step - loss: 0.3342 - accuracy: 0.8641\n",
      "Epoch 60/100\n",
      "8000/8000 [==============================] - 0s 61us/step - loss: 0.3340 - accuracy: 0.8649\n",
      "Epoch 61/100\n",
      "8000/8000 [==============================] - 0s 60us/step - loss: 0.3341 - accuracy: 0.8636\n",
      "Epoch 62/100\n",
      "8000/8000 [==============================] - 0s 60us/step - loss: 0.3341 - accuracy: 0.8646\n",
      "Epoch 63/100\n",
      "8000/8000 [==============================] - 1s 65us/step - loss: 0.3339 - accuracy: 0.8641\n",
      "Epoch 64/100\n",
      "8000/8000 [==============================] - 0s 61us/step - loss: 0.3333 - accuracy: 0.8648\n",
      "Epoch 65/100\n",
      "8000/8000 [==============================] - 1s 77us/step - loss: 0.3337 - accuracy: 0.8649\n",
      "Epoch 66/100\n",
      "8000/8000 [==============================] - 0s 58us/step - loss: 0.3335 - accuracy: 0.8648\n",
      "Epoch 67/100\n",
      "8000/8000 [==============================] - 0s 56us/step - loss: 0.3335 - accuracy: 0.8648\n",
      "Epoch 68/100\n",
      "8000/8000 [==============================] - 1s 77us/step - loss: 0.3334 - accuracy: 0.8650\n",
      "Epoch 69/100\n",
      "8000/8000 [==============================] - 1s 83us/step - loss: 0.3333 - accuracy: 0.8641\n",
      "Epoch 70/100\n",
      "8000/8000 [==============================] - 1s 73us/step - loss: 0.3334 - accuracy: 0.8645\n",
      "Epoch 71/100\n",
      "8000/8000 [==============================] - 1s 77us/step - loss: 0.3333 - accuracy: 0.8652\n",
      "Epoch 72/100\n",
      "8000/8000 [==============================] - 1s 76us/step - loss: 0.3325 - accuracy: 0.8636\n",
      "Epoch 73/100\n",
      "8000/8000 [==============================] - 1s 77us/step - loss: 0.3332 - accuracy: 0.8645\n",
      "Epoch 74/100\n",
      "8000/8000 [==============================] - 1s 64us/step - loss: 0.3331 - accuracy: 0.8648\n",
      "Epoch 75/100\n",
      "8000/8000 [==============================] - 1s 64us/step - loss: 0.3328 - accuracy: 0.8649\n",
      "Epoch 76/100\n",
      "8000/8000 [==============================] - 0s 58us/step - loss: 0.3325 - accuracy: 0.8668\n",
      "Epoch 77/100\n",
      "8000/8000 [==============================] - 0s 56us/step - loss: 0.3328 - accuracy: 0.8636\n",
      "Epoch 78/100\n",
      "8000/8000 [==============================] - 0s 52us/step - loss: 0.3330 - accuracy: 0.8640\n",
      "Epoch 79/100\n"
     ]
    },
    {
     "name": "stdout",
     "output_type": "stream",
     "text": [
      "8000/8000 [==============================] - 0s 53us/step - loss: 0.3328 - accuracy: 0.8634\n",
      "Epoch 80/100\n",
      "8000/8000 [==============================] - 0s 57us/step - loss: 0.3325 - accuracy: 0.8650\n",
      "Epoch 81/100\n",
      "8000/8000 [==============================] - 0s 48us/step - loss: 0.3329 - accuracy: 0.8641\n",
      "Epoch 82/100\n",
      "8000/8000 [==============================] - 0s 57us/step - loss: 0.3325 - accuracy: 0.8650\n",
      "Epoch 83/100\n",
      "8000/8000 [==============================] - 0s 53us/step - loss: 0.3326 - accuracy: 0.8652\n",
      "Epoch 84/100\n",
      "8000/8000 [==============================] - 0s 51us/step - loss: 0.3325 - accuracy: 0.8636\n",
      "Epoch 85/100\n",
      "8000/8000 [==============================] - 0s 55us/step - loss: 0.3326 - accuracy: 0.8650\n",
      "Epoch 86/100\n",
      "8000/8000 [==============================] - 0s 55us/step - loss: 0.3323 - accuracy: 0.8658\n",
      "Epoch 87/100\n",
      "8000/8000 [==============================] - 0s 54us/step - loss: 0.3321 - accuracy: 0.8634\n",
      "Epoch 88/100\n",
      "8000/8000 [==============================] - 0s 50us/step - loss: 0.3322 - accuracy: 0.8664\n",
      "Epoch 89/100\n",
      "8000/8000 [==============================] - 0s 52us/step - loss: 0.3320 - accuracy: 0.8639\n",
      "Epoch 90/100\n",
      "8000/8000 [==============================] - 0s 56us/step - loss: 0.3322 - accuracy: 0.8634\n",
      "Epoch 91/100\n",
      "8000/8000 [==============================] - 0s 57us/step - loss: 0.3323 - accuracy: 0.8649\n",
      "Epoch 92/100\n",
      "8000/8000 [==============================] - 0s 56us/step - loss: 0.3319 - accuracy: 0.8637\n",
      "Epoch 93/100\n",
      "8000/8000 [==============================] - 0s 58us/step - loss: 0.3317 - accuracy: 0.8664\n",
      "Epoch 94/100\n",
      "8000/8000 [==============================] - 0s 56us/step - loss: 0.3318 - accuracy: 0.8651\n",
      "Epoch 95/100\n",
      "8000/8000 [==============================] - 0s 55us/step - loss: 0.3319 - accuracy: 0.8652\n",
      "Epoch 96/100\n",
      "8000/8000 [==============================] - 0s 55us/step - loss: 0.3315 - accuracy: 0.8649\n",
      "Epoch 97/100\n",
      "8000/8000 [==============================] - 0s 54us/step - loss: 0.3317 - accuracy: 0.8652\n",
      "Epoch 98/100\n",
      "8000/8000 [==============================] - 0s 55us/step - loss: 0.3317 - accuracy: 0.8645\n",
      "Epoch 99/100\n",
      "8000/8000 [==============================] - 0s 53us/step - loss: 0.3313 - accuracy: 0.8636\n",
      "Epoch 100/100\n",
      "8000/8000 [==============================] - 0s 56us/step - loss: 0.3313 - accuracy: 0.8643\n"
     ]
    },
    {
     "data": {
      "text/plain": [
       "<keras.callbacks.callbacks.History at 0x16b1def2208>"
      ]
     },
     "execution_count": 16,
     "metadata": {},
     "output_type": "execute_result"
    }
   ],
   "source": [
    "# Part 3 - Training the ANN\n",
    "\n",
    "# Compiling the ANN\n",
    "ann.compile(optimizer = 'adam', loss = 'binary_crossentropy', metrics=['accuracy'])\n",
    "\n",
    "# Training the ANN on the Training set\n",
    "ann.fit(X_train, y_train, batch_size = 32, epochs = 100)\n",
    "\n",
    "# Part 4 - Making the predictions and evaluating the model\n",
    "\n",
    "# Predicting the result of a single observation\n",
    "\n"
   ]
  },
  {
   "cell_type": "code",
   "execution_count": 17,
   "metadata": {},
   "outputs": [
    {
     "name": "stdout",
     "output_type": "stream",
     "text": [
      "[[False]]\n"
     ]
    },
    {
     "data": {
      "text/plain": [
       "'\\nTherefore, our ANN model predicts that this customer stays in the bank!\\nImportant note 1: Notice that the values of the features were all input in a double pair of square brackets. That\\'s because the \"predict\" method always expects a 2D array as the format of its inputs. And putting our values into a double pair of square brackets makes the input exactly a 2D array.\\nImportant note 2: Notice also that the \"France\" country was not input as a string in the last column but as \"1, 0, 0\" in the first three columns. That\\'s because of course the predict method expects the one-hot-encoded values of the state, and as we see in the first row of the matrix of features X, \"France\" was encoded as \"1, 0, 0\". And be careful to include these values in the first three columns, because the dummy variables are always created in the first columns.\\n'"
      ]
     },
     "execution_count": 17,
     "metadata": {},
     "output_type": "execute_result"
    }
   ],
   "source": [
    "# Part 4 - Making the predictions and evaluating the model\n",
    "\n",
    "# Predicting the result of a single observation\n",
    "\n",
    "\"\"\"\n",
    "Homework:\n",
    "Use our ANN model to predict if the customer with the following informations will leave the bank: \n",
    "Geography: France\n",
    "Credit Score: 600\n",
    "Gender: Male\n",
    "Age: 40 years old\n",
    "Tenure: 3 years\n",
    "Balance: $ 60000\n",
    "Number of Products: 2\n",
    "Does this customer have a credit card? Yes\n",
    "Is this customer an Active Member: Yes\n",
    "Estimated Salary: $ 50000\n",
    "So, should we say goodbye to that customer?\n",
    "\n",
    "Solution:\n",
    "\"\"\"\n",
    "\n",
    "print(ann.predict(sc.transform([[1, 0, 0, 600, 1, 40, 3, 60000, 2, 1, 1, 50000]])) > 0.5)\n",
    "\n",
    "\"\"\"\n",
    "Therefore, our ANN model predicts that this customer stays in the bank!\n",
    "Important note 1: Notice that the values of the features were all input in a double pair of square brackets. That's because the \"predict\" method always expects a 2D array as the format of its inputs. And putting our values into a double pair of square brackets makes the input exactly a 2D array.\n",
    "Important note 2: Notice also that the \"France\" country was not input as a string in the last column but as \"1, 0, 0\" in the first three columns. That's because of course the predict method expects the one-hot-encoded values of the state, and as we see in the first row of the matrix of features X, \"France\" was encoded as \"1, 0, 0\". And be careful to include these values in the first three columns, because the dummy variables are always created in the first columns.\n",
    "\"\"\""
   ]
  },
  {
   "cell_type": "code",
   "execution_count": 18,
   "metadata": {},
   "outputs": [
    {
     "name": "stdout",
     "output_type": "stream",
     "text": [
      "[[0 0]\n",
      " [0 1]\n",
      " [0 0]\n",
      " ...\n",
      " [0 0]\n",
      " [0 0]\n",
      " [0 0]]\n"
     ]
    }
   ],
   "source": [
    "# Predicting the Test set results\n",
    "y_pred = ann.predict(X_test)\n",
    "y_pred = (y_pred > 0.5)\n",
    "print(np.concatenate((y_pred.reshape(len(y_pred),1), y_test.reshape(len(y_test),1)),1))\n"
   ]
  },
  {
   "cell_type": "code",
   "execution_count": 19,
   "metadata": {},
   "outputs": [
    {
     "name": "stdout",
     "output_type": "stream",
     "text": [
      "[[1510   85]\n",
      " [ 201  204]]\n"
     ]
    },
    {
     "data": {
      "text/plain": [
       "0.857"
      ]
     },
     "execution_count": 19,
     "metadata": {},
     "output_type": "execute_result"
    }
   ],
   "source": [
    "# Making the Confusion Matrix\n",
    "from sklearn.metrics import confusion_matrix, accuracy_score\n",
    "cm = confusion_matrix(y_test, y_pred)\n",
    "print(cm)\n",
    "accuracy_score(y_test, y_pred)"
   ]
  },
  {
   "cell_type": "code",
   "execution_count": 20,
   "metadata": {},
   "outputs": [
    {
     "name": "stdout",
     "output_type": "stream",
     "text": [
      "Train on 8000 samples, validate on 2000 samples\n",
      "Epoch 1/100\n",
      "8000/8000 [==============================] - 1s 69us/step - loss: 0.3315 - accuracy: 0.8659 - val_loss: 0.3406 - val_accuracy: 0.8565\n",
      "Epoch 2/100\n",
      "8000/8000 [==============================] - 0s 59us/step - loss: 0.3312 - accuracy: 0.8654 - val_loss: 0.3415 - val_accuracy: 0.8530\n",
      "Epoch 3/100\n",
      "8000/8000 [==============================] - 0s 61us/step - loss: 0.3309 - accuracy: 0.8648 - val_loss: 0.3404 - val_accuracy: 0.8535\n",
      "Epoch 4/100\n",
      "8000/8000 [==============================] - 0s 56us/step - loss: 0.3309 - accuracy: 0.8639 - val_loss: 0.3399 - val_accuracy: 0.8565\n",
      "Epoch 5/100\n",
      "8000/8000 [==============================] - 0s 60us/step - loss: 0.3309 - accuracy: 0.8656 - val_loss: 0.3417 - val_accuracy: 0.8535\n",
      "Epoch 6/100\n",
      "8000/8000 [==============================] - ETA: 0s - loss: 0.3324 - accuracy: 0.86 - 0s 56us/step - loss: 0.3308 - accuracy: 0.8651 - val_loss: 0.3402 - val_accuracy: 0.8545\n",
      "Epoch 7/100\n",
      "8000/8000 [==============================] - 0s 60us/step - loss: 0.3303 - accuracy: 0.8649 - val_loss: 0.3392 - val_accuracy: 0.8580\n",
      "Epoch 8/100\n",
      "8000/8000 [==============================] - 1s 64us/step - loss: 0.3305 - accuracy: 0.8659 - val_loss: 0.3398 - val_accuracy: 0.8535\n",
      "Epoch 9/100\n",
      "8000/8000 [==============================] - 0s 58us/step - loss: 0.3304 - accuracy: 0.8643 - val_loss: 0.3391 - val_accuracy: 0.8585\n",
      "Epoch 10/100\n",
      "8000/8000 [==============================] - 1s 85us/step - loss: 0.3307 - accuracy: 0.8649 - val_loss: 0.3396 - val_accuracy: 0.8560\n",
      "Epoch 11/100\n",
      "8000/8000 [==============================] - 1s 82us/step - loss: 0.3305 - accuracy: 0.8658 - val_loss: 0.3419 - val_accuracy: 0.8515\n",
      "Epoch 12/100\n",
      "8000/8000 [==============================] - 1s 75us/step - loss: 0.3306 - accuracy: 0.8641 - val_loss: 0.3398 - val_accuracy: 0.8550\n",
      "Epoch 13/100\n",
      "8000/8000 [==============================] - 0s 60us/step - loss: 0.3302 - accuracy: 0.8650 - val_loss: 0.3417 - val_accuracy: 0.8525\n",
      "Epoch 14/100\n",
      "8000/8000 [==============================] - 1s 72us/step - loss: 0.3303 - accuracy: 0.8644 - val_loss: 0.3417 - val_accuracy: 0.8540\n",
      "Epoch 15/100\n",
      "8000/8000 [==============================] - 1s 72us/step - loss: 0.3303 - accuracy: 0.8643 - val_loss: 0.3399 - val_accuracy: 0.8555\n",
      "Epoch 16/100\n",
      "8000/8000 [==============================] - 0s 62us/step - loss: 0.3299 - accuracy: 0.8639 - val_loss: 0.3392 - val_accuracy: 0.8545\n",
      "Epoch 17/100\n",
      "8000/8000 [==============================] - 0s 59us/step - loss: 0.3303 - accuracy: 0.8654 - val_loss: 0.3399 - val_accuracy: 0.8565\n",
      "Epoch 18/100\n",
      "8000/8000 [==============================] - 0s 59us/step - loss: 0.3297 - accuracy: 0.8650 - val_loss: 0.3450 - val_accuracy: 0.8520\n",
      "Epoch 19/100\n",
      "8000/8000 [==============================] - 0s 56us/step - loss: 0.3302 - accuracy: 0.8649 - val_loss: 0.3419 - val_accuracy: 0.8520\n",
      "Epoch 20/100\n",
      "8000/8000 [==============================] - 1s 67us/step - loss: 0.3301 - accuracy: 0.8656 - val_loss: 0.3396 - val_accuracy: 0.8550\n",
      "Epoch 21/100\n",
      "8000/8000 [==============================] - 1s 73us/step - loss: 0.3303 - accuracy: 0.8645 - val_loss: 0.3417 - val_accuracy: 0.8520\n",
      "Epoch 22/100\n",
      "8000/8000 [==============================] - 1s 106us/step - loss: 0.3302 - accuracy: 0.8655 - val_loss: 0.3404 - val_accuracy: 0.8530\n",
      "Epoch 23/100\n",
      "8000/8000 [==============================] - 1s 86us/step - loss: 0.3297 - accuracy: 0.8637 - val_loss: 0.3390 - val_accuracy: 0.8545\n",
      "Epoch 24/100\n",
      "8000/8000 [==============================] - 1s 80us/step - loss: 0.3298 - accuracy: 0.8650 - val_loss: 0.3389 - val_accuracy: 0.8565\n",
      "Epoch 25/100\n",
      "8000/8000 [==============================] - 1s 65us/step - loss: 0.3299 - accuracy: 0.8644 - val_loss: 0.3424 - val_accuracy: 0.8510\n",
      "Epoch 26/100\n",
      "8000/8000 [==============================] - 0s 59us/step - loss: 0.3297 - accuracy: 0.8645 - val_loss: 0.3426 - val_accuracy: 0.8510\n",
      "Epoch 27/100\n",
      "8000/8000 [==============================] - 1s 69us/step - loss: 0.3297 - accuracy: 0.8655 - val_loss: 0.3392 - val_accuracy: 0.8555\n",
      "Epoch 28/100\n",
      "8000/8000 [==============================] - 1s 83us/step - loss: 0.3296 - accuracy: 0.8669 - val_loss: 0.3384 - val_accuracy: 0.8560\n",
      "Epoch 29/100\n",
      "8000/8000 [==============================] - 1s 70us/step - loss: 0.3298 - accuracy: 0.8643 - val_loss: 0.3419 - val_accuracy: 0.8510\n",
      "Epoch 30/100\n",
      "8000/8000 [==============================] - 1s 85us/step - loss: 0.3298 - accuracy: 0.8639 - val_loss: 0.3387 - val_accuracy: 0.8560\n",
      "Epoch 31/100\n",
      "8000/8000 [==============================] - 0s 59us/step - loss: 0.3297 - accuracy: 0.8658 - val_loss: 0.3393 - val_accuracy: 0.8545\n",
      "Epoch 32/100\n",
      "8000/8000 [==============================] - 1s 66us/step - loss: 0.3295 - accuracy: 0.8633 - val_loss: 0.3393 - val_accuracy: 0.8560\n",
      "Epoch 33/100\n",
      "8000/8000 [==============================] - 0s 59us/step - loss: 0.3296 - accuracy: 0.8648 - val_loss: 0.3397 - val_accuracy: 0.8525\n",
      "Epoch 34/100\n",
      "8000/8000 [==============================] - 0s 60us/step - loss: 0.3298 - accuracy: 0.8636 - val_loss: 0.3390 - val_accuracy: 0.8565\n",
      "Epoch 35/100\n",
      "8000/8000 [==============================] - 1s 70us/step - loss: 0.3296 - accuracy: 0.8645 - val_loss: 0.3377 - val_accuracy: 0.8590\n",
      "Epoch 36/100\n",
      "8000/8000 [==============================] - 1s 69us/step - loss: 0.3295 - accuracy: 0.8656 - val_loss: 0.3401 - val_accuracy: 0.8545\n",
      "Epoch 37/100\n",
      "8000/8000 [==============================] - 0s 60us/step - loss: 0.3297 - accuracy: 0.8654 - val_loss: 0.3412 - val_accuracy: 0.8530\n",
      "Epoch 38/100\n",
      "8000/8000 [==============================] - 0s 59us/step - loss: 0.3294 - accuracy: 0.8646 - val_loss: 0.3396 - val_accuracy: 0.8545\n",
      "Epoch 39/100\n",
      "8000/8000 [==============================] - 0s 57us/step - loss: 0.3295 - accuracy: 0.8635 - val_loss: 0.3408 - val_accuracy: 0.8515\n",
      "Epoch 40/100\n",
      "8000/8000 [==============================] - 0s 59us/step - loss: 0.3296 - accuracy: 0.8649 - val_loss: 0.3389 - val_accuracy: 0.8570\n",
      "Epoch 41/100\n",
      "8000/8000 [==============================] - 0s 62us/step - loss: 0.3292 - accuracy: 0.8658 - val_loss: 0.3380 - val_accuracy: 0.8595\n",
      "Epoch 42/100\n",
      "8000/8000 [==============================] - 0s 60us/step - loss: 0.3294 - accuracy: 0.8636 - val_loss: 0.3380 - val_accuracy: 0.8565\n",
      "Epoch 43/100\n",
      "8000/8000 [==============================] - 0s 57us/step - loss: 0.3294 - accuracy: 0.8641 - val_loss: 0.3386 - val_accuracy: 0.8555\n",
      "Epoch 44/100\n",
      "8000/8000 [==============================] - 1s 63us/step - loss: 0.3292 - accuracy: 0.8644 - val_loss: 0.3393 - val_accuracy: 0.8545\n",
      "Epoch 45/100\n",
      "8000/8000 [==============================] - 1s 69us/step - loss: 0.3298 - accuracy: 0.8650 - val_loss: 0.3380 - val_accuracy: 0.8580\n",
      "Epoch 46/100\n",
      "8000/8000 [==============================] - 0s 59us/step - loss: 0.3293 - accuracy: 0.8652 - val_loss: 0.3384 - val_accuracy: 0.8560\n",
      "Epoch 47/100\n",
      "8000/8000 [==============================] - 0s 55us/step - loss: 0.3291 - accuracy: 0.8656 - val_loss: 0.3376 - val_accuracy: 0.8595\n",
      "Epoch 48/100\n",
      "8000/8000 [==============================] - 0s 59us/step - loss: 0.3291 - accuracy: 0.8652 - val_loss: 0.3381 - val_accuracy: 0.8560\n",
      "Epoch 49/100\n",
      "8000/8000 [==============================] - 0s 55us/step - loss: 0.3294 - accuracy: 0.8650 - val_loss: 0.3374 - val_accuracy: 0.8565\n",
      "Epoch 50/100\n",
      "8000/8000 [==============================] - 1s 66us/step - loss: 0.3290 - accuracy: 0.8658 - val_loss: 0.3368 - val_accuracy: 0.8620\n",
      "Epoch 51/100\n",
      "8000/8000 [==============================] - 1s 92us/step - loss: 0.3293 - accuracy: 0.8655 - val_loss: 0.3376 - val_accuracy: 0.8530\n",
      "Epoch 52/100\n",
      "8000/8000 [==============================] - 1s 91us/step - loss: 0.3291 - accuracy: 0.8646 - val_loss: 0.3378 - val_accuracy: 0.8570\n",
      "Epoch 53/100\n",
      "8000/8000 [==============================] - 1s 87us/step - loss: 0.3292 - accuracy: 0.8652 - val_loss: 0.3372 - val_accuracy: 0.8560\n",
      "Epoch 54/100\n",
      "8000/8000 [==============================] - 1s 87us/step - loss: 0.3294 - accuracy: 0.8661 - val_loss: 0.3367 - val_accuracy: 0.8590\n",
      "Epoch 55/100\n",
      "8000/8000 [==============================] - 1s 69us/step - loss: 0.3290 - accuracy: 0.8658 - val_loss: 0.3411 - val_accuracy: 0.8500\n",
      "Epoch 56/100\n"
     ]
    },
    {
     "name": "stdout",
     "output_type": "stream",
     "text": [
      "8000/8000 [==============================] - 1s 73us/step - loss: 0.3293 - accuracy: 0.8636 - val_loss: 0.3376 - val_accuracy: 0.8585\n",
      "Epoch 57/100\n",
      "8000/8000 [==============================] - 1s 67us/step - loss: 0.3289 - accuracy: 0.8651 - val_loss: 0.3371 - val_accuracy: 0.8575\n",
      "Epoch 58/100\n",
      "8000/8000 [==============================] - 1s 69us/step - loss: 0.3288 - accuracy: 0.8666 - val_loss: 0.3390 - val_accuracy: 0.8535\n",
      "Epoch 59/100\n",
      "8000/8000 [==============================] - 1s 85us/step - loss: 0.3290 - accuracy: 0.8645 - val_loss: 0.3378 - val_accuracy: 0.8540\n",
      "Epoch 60/100\n",
      "8000/8000 [==============================] - 1s 81us/step - loss: 0.3290 - accuracy: 0.8648 - val_loss: 0.3388 - val_accuracy: 0.8530\n",
      "Epoch 61/100\n",
      "8000/8000 [==============================] - 1s 87us/step - loss: 0.3287 - accuracy: 0.8659 - val_loss: 0.3377 - val_accuracy: 0.8585\n",
      "Epoch 62/100\n",
      "8000/8000 [==============================] - 1s 89us/step - loss: 0.3291 - accuracy: 0.8648 - val_loss: 0.3399 - val_accuracy: 0.8515\n",
      "Epoch 63/100\n",
      "8000/8000 [==============================] - 1s 82us/step - loss: 0.3285 - accuracy: 0.8644 - val_loss: 0.3375 - val_accuracy: 0.8590\n",
      "Epoch 64/100\n",
      "8000/8000 [==============================] - 1s 82us/step - loss: 0.3286 - accuracy: 0.8654 - val_loss: 0.3375 - val_accuracy: 0.8560\n",
      "Epoch 65/100\n",
      "8000/8000 [==============================] - 1s 82us/step - loss: 0.3287 - accuracy: 0.8658 - val_loss: 0.3385 - val_accuracy: 0.8550\n",
      "Epoch 66/100\n",
      "8000/8000 [==============================] - 1s 70us/step - loss: 0.3287 - accuracy: 0.8661 - val_loss: 0.3373 - val_accuracy: 0.8570\n",
      "Epoch 67/100\n",
      "8000/8000 [==============================] - 1s 74us/step - loss: 0.3283 - accuracy: 0.8658 - val_loss: 0.3367 - val_accuracy: 0.8650\n",
      "Epoch 68/100\n",
      "8000/8000 [==============================] - 1s 78us/step - loss: 0.3287 - accuracy: 0.8650 - val_loss: 0.3368 - val_accuracy: 0.8625\n",
      "Epoch 69/100\n",
      "8000/8000 [==============================] - 1s 72us/step - loss: 0.3287 - accuracy: 0.8655 - val_loss: 0.3371 - val_accuracy: 0.8590\n",
      "Epoch 70/100\n",
      "8000/8000 [==============================] - 1s 74us/step - loss: 0.3289 - accuracy: 0.8655 - val_loss: 0.3386 - val_accuracy: 0.8550\n",
      "Epoch 71/100\n",
      "8000/8000 [==============================] - 1s 69us/step - loss: 0.3286 - accuracy: 0.8659 - val_loss: 0.3394 - val_accuracy: 0.8545\n",
      "Epoch 72/100\n",
      "8000/8000 [==============================] - 1s 67us/step - loss: 0.3286 - accuracy: 0.8641 - val_loss: 0.3397 - val_accuracy: 0.8520\n",
      "Epoch 73/100\n",
      "8000/8000 [==============================] - 1s 66us/step - loss: 0.3289 - accuracy: 0.8655 - val_loss: 0.3386 - val_accuracy: 0.8530\n",
      "Epoch 74/100\n",
      "8000/8000 [==============================] - 1s 67us/step - loss: 0.3286 - accuracy: 0.8650 - val_loss: 0.3365 - val_accuracy: 0.8605\n",
      "Epoch 75/100\n",
      "8000/8000 [==============================] - 1s 66us/step - loss: 0.3283 - accuracy: 0.8654 - val_loss: 0.3391 - val_accuracy: 0.8550\n",
      "Epoch 76/100\n",
      "8000/8000 [==============================] - 1s 67us/step - loss: 0.3286 - accuracy: 0.8660 - val_loss: 0.3372 - val_accuracy: 0.8585\n",
      "Epoch 77/100\n",
      "8000/8000 [==============================] - 1s 75us/step - loss: 0.3287 - accuracy: 0.8654 - val_loss: 0.3375 - val_accuracy: 0.8585\n",
      "Epoch 78/100\n",
      "8000/8000 [==============================] - 1s 84us/step - loss: 0.3285 - accuracy: 0.8654 - val_loss: 0.3374 - val_accuracy: 0.8580\n",
      "Epoch 79/100\n",
      "8000/8000 [==============================] - 1s 74us/step - loss: 0.3284 - accuracy: 0.8661 - val_loss: 0.3407 - val_accuracy: 0.8510\n",
      "Epoch 80/100\n",
      "8000/8000 [==============================] - 1s 81us/step - loss: 0.3283 - accuracy: 0.8651 - val_loss: 0.3372 - val_accuracy: 0.8595\n",
      "Epoch 81/100\n",
      "8000/8000 [==============================] - 1s 70us/step - loss: 0.3282 - accuracy: 0.8652 - val_loss: 0.3391 - val_accuracy: 0.8550\n",
      "Epoch 82/100\n",
      "8000/8000 [==============================] - 1s 68us/step - loss: 0.3283 - accuracy: 0.8666 - val_loss: 0.3401 - val_accuracy: 0.8540\n",
      "Epoch 83/100\n",
      "8000/8000 [==============================] - 1s 71us/step - loss: 0.3282 - accuracy: 0.8648 - val_loss: 0.3392 - val_accuracy: 0.8545\n",
      "Epoch 84/100\n",
      "8000/8000 [==============================] - 1s 77us/step - loss: 0.3285 - accuracy: 0.8644 - val_loss: 0.3381 - val_accuracy: 0.8580\n",
      "Epoch 85/100\n",
      "8000/8000 [==============================] - 1s 75us/step - loss: 0.3284 - accuracy: 0.8660 - val_loss: 0.3376 - val_accuracy: 0.8585\n",
      "Epoch 86/100\n",
      "8000/8000 [==============================] - 1s 71us/step - loss: 0.3289 - accuracy: 0.8662 - val_loss: 0.3407 - val_accuracy: 0.8535\n",
      "Epoch 87/100\n",
      "8000/8000 [==============================] - 1s 68us/step - loss: 0.3283 - accuracy: 0.8643 - val_loss: 0.3380 - val_accuracy: 0.8555\n",
      "Epoch 88/100\n",
      "8000/8000 [==============================] - 1s 70us/step - loss: 0.3283 - accuracy: 0.8661 - val_loss: 0.3380 - val_accuracy: 0.8580\n",
      "Epoch 89/100\n",
      "8000/8000 [==============================] - 1s 76us/step - loss: 0.3285 - accuracy: 0.8666 - val_loss: 0.3388 - val_accuracy: 0.8540\n",
      "Epoch 90/100\n",
      "8000/8000 [==============================] - 1s 75us/step - loss: 0.3285 - accuracy: 0.8649 - val_loss: 0.3389 - val_accuracy: 0.8550\n",
      "Epoch 91/100\n",
      "8000/8000 [==============================] - 1s 72us/step - loss: 0.3284 - accuracy: 0.8661 - val_loss: 0.3384 - val_accuracy: 0.8565\n",
      "Epoch 92/100\n",
      "8000/8000 [==============================] - 1s 67us/step - loss: 0.3282 - accuracy: 0.8656 - val_loss: 0.3401 - val_accuracy: 0.8530\n",
      "Epoch 93/100\n",
      "8000/8000 [==============================] - 1s 69us/step - loss: 0.3284 - accuracy: 0.8650 - val_loss: 0.3393 - val_accuracy: 0.8545\n",
      "Epoch 94/100\n",
      "8000/8000 [==============================] - 1s 69us/step - loss: 0.3280 - accuracy: 0.8654 - val_loss: 0.3404 - val_accuracy: 0.8545\n",
      "Epoch 95/100\n",
      "8000/8000 [==============================] - 1s 70us/step - loss: 0.3279 - accuracy: 0.8648 - val_loss: 0.3392 - val_accuracy: 0.8545\n",
      "Epoch 96/100\n",
      "8000/8000 [==============================] - 1s 67us/step - loss: 0.3285 - accuracy: 0.8655 - val_loss: 0.3413 - val_accuracy: 0.8515\n",
      "Epoch 97/100\n",
      "8000/8000 [==============================] - 1s 80us/step - loss: 0.3282 - accuracy: 0.8660 - val_loss: 0.3376 - val_accuracy: 0.8580\n",
      "Epoch 98/100\n",
      "8000/8000 [==============================] - 1s 81us/step - loss: 0.3284 - accuracy: 0.8656 - val_loss: 0.3388 - val_accuracy: 0.8560\n",
      "Epoch 99/100\n",
      "8000/8000 [==============================] - 1s 82us/step - loss: 0.3285 - accuracy: 0.8662 - val_loss: 0.3383 - val_accuracy: 0.8590\n",
      "Epoch 100/100\n",
      "8000/8000 [==============================] - 1s 79us/step - loss: 0.3284 - accuracy: 0.8652 - val_loss: 0.3376 - val_accuracy: 0.8565\n",
      "[0.865875, 0.865375, 0.86475, 0.863875, 0.865625, 0.865125, 0.864875, 0.865875, 0.86425, 0.864875, 0.86575, 0.864125, 0.865, 0.864375, 0.86425, 0.863875, 0.865375, 0.865, 0.864875, 0.865625, 0.8645, 0.8655, 0.86375, 0.865, 0.864375, 0.8645, 0.8655, 0.866875, 0.86425, 0.863875, 0.86575, 0.86325, 0.86475, 0.863625, 0.8645, 0.865625, 0.865375, 0.864625, 0.8635, 0.864875, 0.86575, 0.863625, 0.864125, 0.864375, 0.865, 0.86525, 0.865625, 0.86525, 0.865, 0.86575, 0.8655, 0.864625, 0.86525, 0.866125, 0.86575, 0.863625, 0.865125, 0.866625, 0.8645, 0.86475, 0.865875, 0.86475, 0.864375, 0.865375, 0.86575, 0.866125, 0.86575, 0.865, 0.8655, 0.8655, 0.865875, 0.864125, 0.8655, 0.865, 0.865375, 0.866, 0.865375, 0.865375, 0.866125, 0.865125, 0.86525, 0.866625, 0.86475, 0.864375, 0.866, 0.86625, 0.86425, 0.866125, 0.866625, 0.864875, 0.866125, 0.865625, 0.865, 0.865375, 0.86475, 0.8655, 0.866, 0.865625, 0.86625, 0.86525]\n",
      "[0.33146478146314623, 0.3312351933121681, 0.33091282257437704, 0.3308723075985909, 0.3309094037115574, 0.3307528222203255, 0.3303446727991104, 0.3305157622694969, 0.3304010165631771, 0.330668309032917, 0.330473112732172, 0.33055365419387817, 0.33022384640574454, 0.3302713912427425, 0.33032575991749763, 0.3299120996296406, 0.33026459097862243, 0.32969061970710756, 0.3302432109117508, 0.3300714728236198, 0.3302996064424515, 0.3301596667766571, 0.3297095241844654, 0.329750810533762, 0.3299269115328789, 0.3297432405352593, 0.32965181922912595, 0.329552628159523, 0.32981116396188737, 0.32980872416496276, 0.32969091814756396, 0.3295282574892044, 0.3295754706859589, 0.3297623542547226, 0.32964872813224794, 0.3295315299034119, 0.3296519423723221, 0.3294457155168056, 0.3295121782720089, 0.32955745700001715, 0.32924405604600904, 0.3293737395107746, 0.32942905992269517, 0.3292433062493801, 0.32976519703865054, 0.3292623111605644, 0.32906413125991824, 0.3291335346698761, 0.3294120721518993, 0.3289786613881588, 0.3292602764368057, 0.32905127719044686, 0.3291948473751545, 0.32941912120580674, 0.32899147856235506, 0.32931403356790545, 0.328884449005127, 0.3288170529603958, 0.32904154753685, 0.32898483008146284, 0.3286737181842327, 0.32906226205825806, 0.32850118735432626, 0.32864840525388717, 0.32865302547812464, 0.32870839548110964, 0.32834477508068083, 0.32865496093034746, 0.32870796918869016, 0.32886942866444585, 0.32856624567508697, 0.3285924387276173, 0.32885302233695984, 0.32864387971162795, 0.32833365830779077, 0.3285819476246834, 0.32867675802111623, 0.32853725600242617, 0.3283591306209564, 0.32834271278977395, 0.3281796714067459, 0.32825627329945567, 0.3282465780377388, 0.32853376293182374, 0.328354130923748, 0.3289296714961529, 0.3283083441853523, 0.32828930410742757, 0.3284734795689583, 0.32848294234275816, 0.32841278553009035, 0.32823937422037125, 0.3283940063714981, 0.32800638166069984, 0.32790366080403327, 0.328471982806921, 0.32816670173406604, 0.32835650008916856, 0.3285270763039589, 0.3283535830974579]\n",
      "[0.34055921649932863, 0.3415224254131317, 0.34035111689567565, 0.3399039764404297, 0.3416907498836517, 0.3401844048500061, 0.3391596555709839, 0.33978803718090056, 0.33914720553159716, 0.3395550665855408, 0.3419254677295685, 0.33976556718349454, 0.34171038126945497, 0.34169892501831056, 0.33986273980140685, 0.339227293074131, 0.3399343400001526, 0.3450346509218216, 0.34192054438591, 0.3395573927164078, 0.34169394993782043, 0.3404467432498932, 0.33903149580955505, 0.3388971560001373, 0.3423530013561249, 0.3425741810798645, 0.33920097041130065, 0.3384119412899017, 0.34188555896282197, 0.33874453115463254, 0.33927608966827394, 0.33929975306987764, 0.33970009326934814, 0.3389754114151001, 0.3377058390378952, 0.34010239338874815, 0.3412254822254181, 0.33955149912834165, 0.34080115699768065, 0.3389400477409363, 0.33796057057380674, 0.3380169427394867, 0.3386095577478409, 0.3392660369873047, 0.33799861764907835, 0.33836481654644013, 0.33762281978130343, 0.33813917994499204, 0.3373906745910645, 0.3368492293357849, 0.33758932375907896, 0.33784953093528747, 0.3372016785144806, 0.3367365893125534, 0.3410965322256088, 0.33757262444496156, 0.3371232399940491, 0.3389675624370575, 0.33783430099487305, 0.3387651137113571, 0.33772988069057464, 0.33986134505271914, 0.3374580943584442, 0.3375020651817322, 0.33854499995708465, 0.33728531980514526, 0.3367359744310379, 0.3368003304004669, 0.33705448818206785, 0.33857178354263306, 0.33942816066741943, 0.3397497261762619, 0.3386255633831024, 0.3365091471672058, 0.3390773725509644, 0.3372241411805153, 0.33749981260299683, 0.33739498019218445, 0.34074177861213684, 0.3372446648478508, 0.33909650444984435, 0.3400731780529022, 0.33924873906373976, 0.33812064975500106, 0.33763787198066714, 0.3407170478105545, 0.33797541284561156, 0.3379683589935303, 0.33877190017700193, 0.3388766603469849, 0.33844934177398683, 0.340140756726265, 0.339258269906044, 0.3404329479932785, 0.33915964055061343, 0.34126706862449646, 0.33761297607421875, 0.3388304433822632, 0.33825987577438354, 0.33756473672389986]\n",
      "[0.8565000295639038, 0.8529999852180481, 0.8535000085830688, 0.8565000295639038, 0.8535000085830688, 0.8544999957084656, 0.8579999804496765, 0.8535000085830688, 0.8585000038146973, 0.8560000061988831, 0.8514999747276306, 0.8550000190734863, 0.8525000214576721, 0.8539999723434448, 0.8554999828338623, 0.8544999957084656, 0.8565000295639038, 0.8519999980926514, 0.8519999980926514, 0.8550000190734863, 0.8519999980926514, 0.8529999852180481, 0.8544999957084656, 0.8565000295639038, 0.8510000109672546, 0.8510000109672546, 0.8554999828338623, 0.8560000061988831, 0.8510000109672546, 0.8560000061988831, 0.8544999957084656, 0.8560000061988831, 0.8525000214576721, 0.8565000295639038, 0.859000027179718, 0.8544999957084656, 0.8529999852180481, 0.8544999957084656, 0.8514999747276306, 0.8569999933242798, 0.859499990940094, 0.8565000295639038, 0.8554999828338623, 0.8544999957084656, 0.8579999804496765, 0.8560000061988831, 0.859499990940094, 0.8560000061988831, 0.8565000295639038, 0.8619999885559082, 0.8529999852180481, 0.8569999933242798, 0.8560000061988831, 0.859000027179718, 0.8500000238418579, 0.8585000038146973, 0.8575000166893005, 0.8535000085830688, 0.8539999723434448, 0.8529999852180481, 0.8585000038146973, 0.8514999747276306, 0.859000027179718, 0.8560000061988831, 0.8550000190734863, 0.8569999933242798, 0.8650000095367432, 0.862500011920929, 0.859000027179718, 0.8550000190734863, 0.8544999957084656, 0.8519999980926514, 0.8529999852180481, 0.8604999780654907, 0.8550000190734863, 0.8585000038146973, 0.8585000038146973, 0.8579999804496765, 0.8510000109672546, 0.859499990940094, 0.8550000190734863, 0.8539999723434448, 0.8544999957084656, 0.8579999804496765, 0.8585000038146973, 0.8535000085830688, 0.8554999828338623, 0.8579999804496765, 0.8539999723434448, 0.8550000190734863, 0.8565000295639038, 0.8529999852180481, 0.8544999957084656, 0.8544999957084656, 0.8544999957084656, 0.8514999747276306, 0.8579999804496765, 0.8560000061988831, 0.859000027179718, 0.8565000295639038]\n"
     ]
    }
   ],
   "source": [
    "history = ann.fit(X_train, y_train, validation_data=(X_test, y_test), epochs = 100)\n",
    "\n",
    "print(history.history['accuracy'])\n",
    "print(history.history['loss'])\n",
    "print(history.history['val_loss'])\n",
    "print(history.history['val_accuracy'])\n"
   ]
  },
  {
   "cell_type": "code",
   "execution_count": 21,
   "metadata": {},
   "outputs": [
    {
     "data": {
      "image/png": "[encoded data removed]",
      "text/plain": [
       "<Figure size 720x432 with 1 Axes>"
      ]
     },
     "metadata": {
      "needs_background": "light"
     },
     "output_type": "display_data"
    },
    {
     "data": {
      "image/png": "[encoded data removed]",
      "text/plain": [
       "<Figure size 720x432 with 1 Axes>"
      ]
     },
     "metadata": {
      "needs_background": "light"
     },
     "output_type": "display_data"
    }
   ],
   "source": [
    "import matplotlib.pyplot as plt\n",
    "plt.rcParams['figure.figsize'] = [10,6]\n",
    "\n",
    "\n",
    "plt.figure()\n",
    "plt.plot(history.history['accuracy'])\n",
    "plt.plot(history.history['val_accuracy'])\n",
    "plt.show()\n",
    "\n",
    "plt.plot(history.history['loss'])\n",
    "plt.plot(history.history['val_loss'])\n",
    "plt.show()\n"
   ]
  },
  {
   "cell_type": "code",
   "execution_count": null,
   "metadata": {},
   "outputs": [],
   "source": []
  }
 ],
 "metadata": {
  "kernelspec": {
   "display_name": "Python 3",
   "language": "python",
   "name": "python3"
  },
  "language_info": {
   "codemirror_mode": {
    "name": "ipython",
    "version": 3
   },
   "file_extension": ".py",
   "mimetype": "text/x-python",
   "name": "python",
   "nbconvert_exporter": "python",
   "pygments_lexer": "ipython3",
   "version": "3.7.1"
  }
 },
 "nbformat": 4,
 "nbformat_minor": 2
}
